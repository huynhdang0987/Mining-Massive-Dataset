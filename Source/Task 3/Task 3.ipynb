{
  "nbformat": 4,
  "nbformat_minor": 0,
  "metadata": {
    "colab": {
      "provenance": []
    },
    "kernelspec": {
      "name": "python3",
      "display_name": "Python 3"
    },
    "language_info": {
      "name": "python"
    }
  },
  "cells": [
    {
      "cell_type": "markdown",
      "source": [
        "#Load data"
      ],
      "metadata": {
        "id": "so2IApZanjih"
      }
    },
    {
      "cell_type": "code",
      "execution_count": null,
      "metadata": {
        "colab": {
          "base_uri": "https://localhost:8080/"
        },
        "id": "dtpLpM93mLs_",
        "outputId": "8352ceeb-c1ec-4146-ea24-0b4da1913540"
      },
      "outputs": [
        {
          "output_type": "stream",
          "name": "stdout",
          "text": [
            "Mounted at /content/drive\n"
          ]
        }
      ],
      "source": [
        "from google.colab import drive\n",
        "drive.mount(\"/content/drive\")"
      ]
    },
    {
      "cell_type": "code",
      "source": [
        "secret_path=\"/content/drive/MyDrive/gold_prices.csv\""
      ],
      "metadata": {
        "id": "VW35HW7GnI_c"
      },
      "execution_count": null,
      "outputs": []
    },
    {
      "cell_type": "code",
      "source": [
        "\n",
        "spark = SparkSession.builder \\\n",
        "    .appName(\"Read Gold Prices CSV\") \\\n",
        "    .getOrCreate()\n",
        "\n",
        "schema = StructType([\n",
        "    StructField(\"Date\", DateType(), True),\n",
        "    StructField(\"Buy Price\", DoubleType(), True),\n",
        "    StructField(\"Sell Price\", DoubleType(), True)\n",
        "])\n",
        "\n",
        "df = spark.read.option(\"header\", True).schema(schema).csv(secret_path)\n",
        "\n"
      ],
      "metadata": {
        "id": "ia4uiQkZB5xJ"
      },
      "execution_count": null,
      "outputs": []
    },
    {
      "cell_type": "markdown",
      "source": [
        "# Import libraries"
      ],
      "metadata": {
        "id": "2173CjtDnY1P"
      }
    },
    {
      "cell_type": "code",
      "source": [
        "from pyspark.sql import SparkSession\n",
        "from pyspark.sql.window import Window\n",
        "from pyspark.sql.functions import col, lag, expr\n",
        "from pyspark.sql.types import DoubleType\n",
        "from pyspark.ml.feature import VectorAssembler\n",
        "from pyspark.mllib.linalg.distributed import RowMatrix\n",
        "from pyspark.mllib.linalg import Vectors, DenseMatrix\n",
        "import random\n",
        "from pyspark.mllib.linalg.distributed import RowMatrix, IndexedRow, IndexedRowMatrix\n",
        "from math import sqrt\n",
        "from pyspark.sql.types import StructType, StructField, DateType, DoubleType\n",
        "from pyspark.ml.regression import LinearRegression\n",
        "from pyspark.ml.evaluation import RegressionEvaluator"
      ],
      "metadata": {
        "id": "AGplv7BlwKAR"
      },
      "execution_count": null,
      "outputs": []
    },
    {
      "cell_type": "markdown",
      "source": [
        "# Generate samples with features and labels as below\n",
        "\n"
      ],
      "metadata": {
        "id": "_ZmBAWncuU5a"
      }
    },
    {
      "cell_type": "markdown",
      "source": [
        "* Features: gold prices of 10 consecutive previous dates of the date t\n",
        "\n",
        "* Label: the gold price of the date t.\n"
      ],
      "metadata": {
        "id": "bkro7xQsviV7"
      }
    },
    {
      "cell_type": "code",
      "source": [
        "window = Window.orderBy(\"Date\")\n",
        "\n",
        "# --- Tạo df_buy ---\n",
        "df_buy = df\n",
        "\n",
        "# Tạo lag cho 10 ngày trước của Buy Price\n",
        "for i in range(1, 11):\n",
        "    df_buy = df_buy.withColumn(f\"Buy_{i}\", lag(\"Buy Price\", i).over(window))\n",
        "\n",
        "feature_cols_buy = [f\"Buy_{i}\" for i in range(10, 0, -1)]\n",
        "\n",
        "# Cast sang DoubleType\n",
        "for c in feature_cols_buy:\n",
        "    df_buy = df_buy.withColumn(c, col(c).cast(DoubleType()))\n",
        "\n",
        "# Lọc bỏ dòng có null trong các cột lag\n",
        "df_buy = df_buy.where(~expr(\"exists(array(\" + \",\".join(feature_cols_buy) + \"), x -> x is null)\"))\n",
        "\n",
        "# VectorAssembler cho features Buy\n",
        "assembler_buy = VectorAssembler(inputCols=feature_cols_buy, outputCol=\"features\")\n",
        "df_buy = assembler_buy.transform(df_buy)\n",
        "\n",
        "# Tạo label Buy Price\n",
        "df_buy = df_buy.withColumn(\"label\", col(\"Buy Price\").cast(DoubleType()))\n",
        "\n",
        "# Lấy cột cần thiết\n",
        "df_buy = df_buy.select(\"Date\", \"features\", \"label\")\n",
        "\n",
        "\n",
        "# --- Tạo df_sell ---\n",
        "df_sell = df\n",
        "\n",
        "# Tạo lag cho 10 ngày trước của Sell Price\n",
        "for i in range(1, 11):\n",
        "    df_sell = df_sell.withColumn(f\"Sell_{i}\", lag(\"Sell Price\", i).over(window))\n",
        "\n",
        "feature_cols_sell = [f\"Sell_{i}\" for i in range(10, 0, -1)]\n",
        "\n",
        "# Cast sang DoubleType\n",
        "for c in feature_cols_sell:\n",
        "    df_sell = df_sell.withColumn(c, col(c).cast(DoubleType()))\n",
        "\n",
        "# Lọc bỏ dòng có null trong các cột lag\n",
        "df_sell = df_sell.where(~expr(\"exists(array(\" + \",\".join(feature_cols_sell) + \"), x -> x is null)\"))\n",
        "\n",
        "# VectorAssembler cho features Sell\n",
        "assembler_sell = VectorAssembler(inputCols=feature_cols_sell, outputCol=\"features\")\n",
        "df_sell = assembler_sell.transform(df_sell)\n",
        "\n",
        "# Tạo label Sell Price\n",
        "df_sell = df_sell.withColumn(\"label\", col(\"Sell Price\").cast(DoubleType()))\n",
        "\n",
        "# Lấy cột cần thiết\n",
        "df_sell = df_sell.select(\"Date\", \"features\", \"label\")\n",
        "\n",
        "# Hiển thị kết quả\n",
        "df_buy.show(truncate=False)\n",
        "df_sell.show(truncate=False)\n"
      ],
      "metadata": {
        "colab": {
          "base_uri": "https://localhost:8080/"
        },
        "id": "25YsV-C1oAdy",
        "outputId": "7be192a1-5abc-48b8-cbb9-fc190925dd55"
      },
      "execution_count": null,
      "outputs": [
        {
          "output_type": "stream",
          "name": "stdout",
          "text": [
            "+----------+-------------------------------------------------------------+-----+\n",
            "|Date      |features                                                     |label|\n",
            "+----------+-------------------------------------------------------------+-----+\n",
            "|2009-08-11|[21.13,21.13,21.13,21.13,21.13,21.13,21.13,21.13,21.13,21.13]|21.13|\n",
            "|2009-08-12|[21.13,21.13,21.13,21.13,21.13,21.13,21.13,21.13,21.13,21.13]|21.13|\n",
            "|2009-08-13|[21.13,21.13,21.13,21.13,21.13,21.13,21.13,21.13,21.13,21.13]|21.13|\n",
            "|2009-08-14|[21.13,21.13,21.13,21.13,21.13,21.13,21.13,21.13,21.13,21.13]|21.13|\n",
            "|2009-08-15|[21.13,21.13,21.13,21.13,21.13,21.13,21.13,21.13,21.13,21.13]|21.13|\n",
            "|2009-08-16|[21.13,21.13,21.13,21.13,21.13,21.13,21.13,21.13,21.13,21.13]|21.13|\n",
            "|2009-08-17|[21.13,21.13,21.13,21.13,21.13,21.13,21.13,21.13,21.13,21.13]|21.13|\n",
            "|2009-08-18|[21.13,21.13,21.13,21.13,21.13,21.13,21.13,21.13,21.13,21.13]|21.13|\n",
            "|2009-08-19|[21.13,21.13,21.13,21.13,21.13,21.13,21.13,21.13,21.13,21.13]|21.13|\n",
            "|2009-08-20|[21.13,21.13,21.13,21.13,21.13,21.13,21.13,21.13,21.13,21.13]|21.13|\n",
            "|2009-08-21|[21.13,21.13,21.13,21.13,21.13,21.13,21.13,21.13,21.13,21.13]|21.13|\n",
            "|2009-08-22|[21.13,21.13,21.13,21.13,21.13,21.13,21.13,21.13,21.13,21.13]|21.13|\n",
            "|2009-08-23|[21.13,21.13,21.13,21.13,21.13,21.13,21.13,21.13,21.13,21.13]|21.13|\n",
            "|2009-08-24|[21.13,21.13,21.13,21.13,21.13,21.13,21.13,21.13,21.13,21.13]|21.13|\n",
            "|2009-08-25|[21.13,21.13,21.13,21.13,21.13,21.13,21.13,21.13,21.13,21.13]|21.13|\n",
            "|2009-08-26|[21.13,21.13,21.13,21.13,21.13,21.13,21.13,21.13,21.13,21.13]|21.13|\n",
            "|2009-09-21|[21.13,21.13,21.13,21.13,21.13,21.13,21.13,21.13,21.13,21.13]|22.09|\n",
            "|2009-09-22|[21.13,21.13,21.13,21.13,21.13,21.13,21.13,21.13,21.13,22.09]|22.22|\n",
            "|2009-09-23|[21.13,21.13,21.13,21.13,21.13,21.13,21.13,21.13,22.09,22.22]|22.27|\n",
            "|2009-09-24|[21.13,21.13,21.13,21.13,21.13,21.13,21.13,22.09,22.22,22.27]|22.23|\n",
            "+----------+-------------------------------------------------------------+-----+\n",
            "only showing top 20 rows\n",
            "\n",
            "+----------+-------------------------------------------------------------+-----+\n",
            "|Date      |features                                                     |label|\n",
            "+----------+-------------------------------------------------------------+-----+\n",
            "|2009-08-11|[21.19,21.19,21.19,21.19,21.19,21.19,21.19,21.19,21.19,21.19]|21.19|\n",
            "|2009-08-12|[21.19,21.19,21.19,21.19,21.19,21.19,21.19,21.19,21.19,21.19]|21.19|\n",
            "|2009-08-13|[21.19,21.19,21.19,21.19,21.19,21.19,21.19,21.19,21.19,21.19]|21.19|\n",
            "|2009-08-14|[21.19,21.19,21.19,21.19,21.19,21.19,21.19,21.19,21.19,21.19]|21.19|\n",
            "|2009-08-15|[21.19,21.19,21.19,21.19,21.19,21.19,21.19,21.19,21.19,21.19]|21.19|\n",
            "|2009-08-16|[21.19,21.19,21.19,21.19,21.19,21.19,21.19,21.19,21.19,21.19]|21.19|\n",
            "|2009-08-17|[21.19,21.19,21.19,21.19,21.19,21.19,21.19,21.19,21.19,21.19]|21.19|\n",
            "|2009-08-18|[21.19,21.19,21.19,21.19,21.19,21.19,21.19,21.19,21.19,21.19]|21.19|\n",
            "|2009-08-19|[21.19,21.19,21.19,21.19,21.19,21.19,21.19,21.19,21.19,21.19]|21.19|\n",
            "|2009-08-20|[21.19,21.19,21.19,21.19,21.19,21.19,21.19,21.19,21.19,21.19]|21.19|\n",
            "|2009-08-21|[21.19,21.19,21.19,21.19,21.19,21.19,21.19,21.19,21.19,21.19]|21.19|\n",
            "|2009-08-22|[21.19,21.19,21.19,21.19,21.19,21.19,21.19,21.19,21.19,21.19]|21.19|\n",
            "|2009-08-23|[21.19,21.19,21.19,21.19,21.19,21.19,21.19,21.19,21.19,21.19]|21.19|\n",
            "|2009-08-24|[21.19,21.19,21.19,21.19,21.19,21.19,21.19,21.19,21.19,21.19]|21.19|\n",
            "|2009-08-25|[21.19,21.19,21.19,21.19,21.19,21.19,21.19,21.19,21.19,21.19]|21.19|\n",
            "|2009-08-26|[21.19,21.19,21.19,21.19,21.19,21.19,21.19,21.19,21.19,21.19]|21.19|\n",
            "|2009-09-21|[21.19,21.19,21.19,21.19,21.19,21.19,21.19,21.19,21.19,21.19]|22.14|\n",
            "|2009-09-22|[21.19,21.19,21.19,21.19,21.19,21.19,21.19,21.19,21.19,22.14]|22.28|\n",
            "|2009-09-23|[21.19,21.19,21.19,21.19,21.19,21.19,21.19,21.19,22.14,22.28]|22.32|\n",
            "|2009-09-24|[21.19,21.19,21.19,21.19,21.19,21.19,21.19,22.14,22.28,22.32]|22.28|\n",
            "+----------+-------------------------------------------------------------+-----+\n",
            "only showing top 20 rows\n",
            "\n"
          ]
        }
      ]
    },
    {
      "cell_type": "markdown",
      "source": [
        "# Class CUR"
      ],
      "metadata": {
        "id": "ry-p3yUExQKT"
      }
    },
    {
      "cell_type": "code",
      "source": [
        "class CURReducer:\n",
        "    def __init__(self, n_cols_reduced=5):\n",
        "        self.n_cols_reduced = n_cols_reduced\n",
        "        self.selected_col_indices = []\n",
        "        self.selected_row_indices = []\n",
        "        self.U_eff = None  # RDD of vectors (c × k)\n",
        "        self.C = None\n",
        "\n",
        "    def select_columns(self, X: RowMatrix):\n",
        "        n_cols = X.numCols()\n",
        "        col_sq = X.rows.flatMap(lambda v: [(i, v[i] ** 2) for i in range(n_cols)])\n",
        "        col_sums = col_sq.reduceByKey(lambda a, b: a + b)\n",
        "        total_sum = col_sums.map(lambda x: x[1]).reduce(lambda a, b: a + b)\n",
        "        col_probs = col_sums.mapValues(lambda x: x / total_sum)\n",
        "        sampled = col_probs.takeSample(False, self.n_cols_reduced, seed=42)\n",
        "        self.selected_col_indices = [i for i, _ in sampled]\n",
        "\n",
        "    def select_rows(self, X: RowMatrix):\n",
        "        indexed = IndexedRowMatrix(X.rows.zipWithIndex().map(lambda x: IndexedRow(x[1], x[0])))\n",
        "        row_norms = indexed.rows.map(lambda r: (r.index, float(r.vector.norm(2) ** 2)))\n",
        "        total = row_norms.map(lambda x: x[1]).reduce(lambda a, b: a + b)\n",
        "        row_probs = row_norms.mapValues(lambda x: x / total)\n",
        "        sampled = row_probs.takeSample(False, self.n_cols_reduced, seed=42)\n",
        "        self.selected_row_indices = [int(i) for i, _ in sampled]\n",
        "\n",
        "    def filter_matrix_cols(self, X: RowMatrix, selected_cols):\n",
        "        selected = sorted(selected_cols)\n",
        "        bc_selected = X.rows.context.broadcast(selected)\n",
        "        return RowMatrix(X.rows.map(lambda v: Vectors.dense([v[i] for i in bc_selected.value])))\n",
        "\n",
        "    def filter_matrix_rows(self, M: RowMatrix, selected_rows):\n",
        "        indexed = IndexedRowMatrix(M.rows.zipWithIndex().map(lambda x: IndexedRow(x[1], x[0])))\n",
        "        bc_rows = M.rows.context.broadcast(set(selected_rows))\n",
        "        filtered = indexed.rows.filter(lambda r: r.index in bc_rows.value).map(lambda r: r.vector)\n",
        "        return RowMatrix(filtered)\n",
        "\n",
        "    def compute_U_eff(self, W: RowMatrix):\n",
        "        k = min(W.numCols(), W.numRows(), self.n_cols_reduced)\n",
        "        svd = W.computeSVD(k, computeU=True)\n",
        "        U = svd.U  # RowMatrix\n",
        "        s_vals = svd.s.toArray()\n",
        "\n",
        "        sigma_inv_sq_vals = []\n",
        "        for i in range(k):\n",
        "            for j in range(k):\n",
        "                val = 1.0 / (s_vals[i] ** 2) if i == j and s_vals[i] > 1e-10 else 0.0\n",
        "                sigma_inv_sq_vals.append(val)\n",
        "        sigma_inv_sq = DenseMatrix(k, k, sigma_inv_sq_vals)\n",
        "\n",
        "        sc = W.rows.context\n",
        "        bc_sigma_inv_sq = sc.broadcast(sigma_inv_sq)\n",
        "\n",
        "        U_rdd = U.rows\n",
        "\n",
        "        def outer_product(u):\n",
        "            u_arr = u.toArray()\n",
        "            return DenseMatrix(k, k, [u_arr[i] * u_arr[j] for i in range(k) for j in range(k)])\n",
        "\n",
        "        projector = U_rdd.map(outer_product).reduce(\n",
        "            lambda a, b: DenseMatrix(k, k, [a[i, j] + b[i, j] for i in range(k) for j in range(k)])\n",
        "        )\n",
        "\n",
        "        # Multiply with Sigma⁻²\n",
        "        final_matrix = DenseMatrix(k, k, [\n",
        "            sum(projector[i, m] * bc_sigma_inv_sq.value[m, j] for m in range(k))\n",
        "            for i in range(k) for j in range(k)\n",
        "        ])\n",
        "\n",
        "        self.U_eff = final_matrix  # DenseMatrix (k x k)\n",
        "\n",
        "    def fit(self, X: RowMatrix):\n",
        "        self.select_columns(X)\n",
        "        self.select_rows(X)\n",
        "        self.C = self.filter_matrix_cols(X, self.selected_col_indices)\n",
        "        W = self.filter_matrix_rows(self.C, self.selected_row_indices)\n",
        "        self.compute_U_eff(W)\n",
        "\n",
        "    def transform(self, X: RowMatrix):\n",
        "        C = self.filter_matrix_cols(X, self.selected_col_indices)\n",
        "        projector = self.U_eff  # DenseMatrix k x k\n",
        "        bc_proj = C.rows.context.broadcast(projector)\n",
        "\n",
        "        def project_row(row):\n",
        "            x = row.toArray()\n",
        "            return Vectors.dense([\n",
        "                sum(x[i] * bc_proj.value[i, j] for i in range(len(x)))\n",
        "                for j in range(projector.numCols)\n",
        "            ])\n",
        "\n",
        "        projected_rows = C.rows.map(project_row)\n",
        "        return RowMatrix(projected_rows)\n"
      ],
      "metadata": {
        "id": "WxWnfDJHa8Hr"
      },
      "execution_count": null,
      "outputs": []
    },
    {
      "cell_type": "markdown",
      "source": [
        "#Buy Price"
      ],
      "metadata": {
        "id": "u1Zgaz2Zj2IL"
      }
    },
    {
      "cell_type": "markdown",
      "source": [
        "## Infer the new representation (row embedding) for each feature vector in the training and test sets."
      ],
      "metadata": {
        "id": "W2ZEJmT-7xO2"
      }
    },
    {
      "cell_type": "code",
      "source": [
        "from pyspark.ml.linalg import DenseVector as MLDenseVector\n",
        "from pyspark.mllib.linalg import Vectors as MLLIBVectors\n",
        "\n",
        "def ml_to_mllib(v):\n",
        "    # Chuyển Vector ML sang Vector MLLIB\n",
        "    return MLLIBVectors.dense(v.toArray())\n",
        "\n",
        "# Giả sử df có cột \"features\" kiểu pyspark.ml.linalg.Vector\n",
        "features_rdd = df_buy.select(\"features\").rdd.map(lambda row: ml_to_mllib(row[\"features\"]))\n",
        "\n",
        "# Tạo RowMatrix đúng chuẩn\n",
        "mat = RowMatrix(features_rdd)\n"
      ],
      "metadata": {
        "id": "LizsfN6za_OG"
      },
      "execution_count": null,
      "outputs": []
    },
    {
      "cell_type": "code",
      "source": [
        "\n",
        "cur = CURReducer(n_cols_reduced=5)\n",
        "cur.fit(mat)\n",
        "X_reduced = cur.transform(mat)\n",
        "\n"
      ],
      "metadata": {
        "id": "2donVbKda85F"
      },
      "execution_count": null,
      "outputs": []
    },
    {
      "cell_type": "code",
      "source": [
        "X_reduced.rows.take(2)"
      ],
      "metadata": {
        "colab": {
          "base_uri": "https://localhost:8080/"
        },
        "id": "CtBDVsKicd8Z",
        "outputId": "9778690e-a99f-421a-fb78-63f64aa3a054"
      },
      "execution_count": null,
      "outputs": [
        {
          "output_type": "execute_result",
          "data": {
            "text/plain": [
              "[DenseVector([0.0003, 242.41, 1789.7287, 37279.6976, 90994.1187]),\n",
              " DenseVector([0.0003, 242.41, 1789.7287, 37279.6976, 90994.1187])]"
            ]
          },
          "metadata": {},
          "execution_count": 101
        }
      ]
    },
    {
      "cell_type": "code",
      "source": [
        "from pyspark.sql.functions import monotonically_increasing_id\n",
        "from pyspark.mllib.linalg import Vectors\n",
        "from pyspark.sql import Row\n",
        "\n",
        "# 1. Thêm cột index cho df_buy để đánh thứ tự dòng\n",
        "df_buy_indexed = df_buy.withColumn(\"idx\", monotonically_increasing_id())\n",
        "\n",
        "# 2. Lấy X_reduced (RowMatrix) sang RDD [(idx, vector_embedding)]\n",
        "rdd_reduced = X_reduced.rows.zipWithIndex().map(lambda x: (x[1], x[0]))\n",
        "\n",
        "# 3. Chuyển rdd_reduced thành DataFrame (idx, feature_reduced)\n",
        "df_reduced = rdd_reduced.map(lambda x: Row(idx=x[0], feature_reduced=Vectors.dense(x[1].toArray()))).toDF()\n",
        "\n",
        "# 4. Join df_buy_indexed với df_reduced theo idx\n",
        "df_joined = df_buy_indexed.join(df_reduced, on=\"idx\", how=\"inner\")\n",
        "\n",
        "# 5. Thay thế cột feature cũ bằng cột feature_reduced\n",
        "df_final = df_joined.drop(\"features\").withColumnRenamed(\"feature_reduced\", \"features\").drop(\"idx\")\n",
        "\n",
        "# df_final là DataFrame mới với cột feature đã được thay bằng vector embedding 5 chiều\n"
      ],
      "metadata": {
        "id": "fsVSflR3bUYi"
      },
      "execution_count": null,
      "outputs": []
    },
    {
      "cell_type": "code",
      "source": [
        "df_final.show(truncate=False)"
      ],
      "metadata": {
        "colab": {
          "base_uri": "https://localhost:8080/"
        },
        "id": "B6DELjKCfU_u",
        "outputId": "9b93eced-0ce0-4df4-8167-3f98ca6aa8a0"
      },
      "execution_count": null,
      "outputs": [
        {
          "output_type": "stream",
          "name": "stdout",
          "text": [
            "+----------+-----+------------------------------------------------------------------------------------------------+\n",
            "|Date      |label|features                                                                                        |\n",
            "+----------+-----+------------------------------------------------------------------------------------------------+\n",
            "|2009-08-11|21.13|[3.0777693031276243E-4,242.4099785439147,1789.7286834462823,37279.69760364226,90994.11871588604]|\n",
            "|2009-08-12|21.13|[3.0777693031276243E-4,242.4099785439147,1789.7286834462823,37279.69760364226,90994.11871588604]|\n",
            "|2009-08-13|21.13|[3.0777693031276243E-4,242.4099785439147,1789.7286834462823,37279.69760364226,90994.11871588604]|\n",
            "|2009-08-14|21.13|[3.0777693031276243E-4,242.4099785439147,1789.7286834462823,37279.69760364226,90994.11871588604]|\n",
            "|2009-08-15|21.13|[3.0777693031276243E-4,242.4099785439147,1789.7286834462823,37279.69760364226,90994.11871588604]|\n",
            "|2009-08-16|21.13|[3.0777693031276243E-4,242.4099785439147,1789.7286834462823,37279.69760364226,90994.11871588604]|\n",
            "|2009-08-17|21.13|[3.0777693031276243E-4,242.4099785439147,1789.7286834462823,37279.69760364226,90994.11871588604]|\n",
            "|2009-08-18|21.13|[3.0777693031276243E-4,242.4099785439147,1789.7286834462823,37279.69760364226,90994.11871588604]|\n",
            "|2009-08-19|21.13|[3.0777693031276243E-4,242.4099785439147,1789.7286834462823,37279.69760364226,90994.11871588604]|\n",
            "|2009-08-20|21.13|[3.0777693031276243E-4,242.4099785439147,1789.7286834462823,37279.69760364226,90994.11871588604]|\n",
            "|2009-08-21|21.13|[3.0777693031276243E-4,242.4099785439147,1789.7286834462823,37279.69760364226,90994.11871588604]|\n",
            "|2009-08-22|21.13|[3.0777693031276243E-4,242.4099785439147,1789.7286834462823,37279.69760364226,90994.11871588604]|\n",
            "|2009-08-23|21.13|[3.0777693031276243E-4,242.4099785439147,1789.7286834462823,37279.69760364226,90994.11871588604]|\n",
            "|2009-08-24|21.13|[3.0777693031276243E-4,242.4099785439147,1789.7286834462823,37279.69760364226,90994.11871588604]|\n",
            "|2009-08-25|21.13|[3.0777693031276243E-4,242.4099785439147,1789.7286834462823,37279.69760364226,90994.11871588604]|\n",
            "|2009-08-26|21.13|[3.0777693031276243E-4,242.4099785439147,1789.7286834462823,37279.69760364226,90994.11871588604]|\n",
            "|2009-09-21|22.09|[3.0777693031276243E-4,242.4099785439147,1789.7286834462823,37279.69760364226,90994.11871588604]|\n",
            "|2009-09-22|22.22|[3.0777693031276243E-4,242.4099785439147,1789.7286834462823,37279.69760364226,90994.11871588604]|\n",
            "|2009-09-23|22.27|[3.077760591692406E-4,242.4099775896531,1789.728682545394,37279.69760592865,95128.25756812863]  |\n",
            "|2009-09-24|22.23|[3.077760567065501E-4,242.40997751623618,1789.7286820993688,38973.42735784765,95688.08887197319]|\n",
            "+----------+-----+------------------------------------------------------------------------------------------------+\n",
            "only showing top 20 rows\n",
            "\n"
          ]
        }
      ]
    },
    {
      "cell_type": "code",
      "source": [
        "from pyspark.ml.linalg import Vectors as mlVectors\n",
        "from pyspark.mllib.linalg import Vectors as mllibVectors\n",
        "from pyspark.sql.functions import udf, col\n",
        "from pyspark.ml.linalg import VectorUDT\n",
        "\n",
        "# UDF chuyển đổi mllib Vector sang ml Vector\n",
        "convert_udf = udf(lambda v: mlVectors.dense(v.toArray()), VectorUDT())\n",
        "\n",
        "# Áp dụng chuyển đổi lên cột features của train_data_buy_new\n",
        "df_final = df_final.withColumn(\"features\", convert_udf(col(\"features\")))\n"
      ],
      "metadata": {
        "id": "zFaWOIlZgS3W"
      },
      "execution_count": null,
      "outputs": []
    },
    {
      "cell_type": "markdown",
      "source": [
        "## Training and evaluate a linear regression model as in Task 2 with the two new sets.\n"
      ],
      "metadata": {
        "id": "4Rn1IpO-7-iX"
      }
    },
    {
      "cell_type": "code",
      "source": [
        "\n",
        "\n",
        "# Split the data into training and testing datasets\n",
        "train_data_buy, test_data_buy = df_buy.randomSplit([0.7, 0.3], seed=123)\n",
        "train_data_buy_new, test_data_buy_new = df_final.randomSplit([0.7, 0.3], seed=123)\n",
        "\n"
      ],
      "metadata": {
        "id": "s4he8Vk4bVhs"
      },
      "execution_count": null,
      "outputs": []
    },
    {
      "cell_type": "code",
      "source": [
        "# Initialize the Linear Regression model\n",
        "lr = LinearRegression(\n",
        "    featuresCol='features',\n",
        "    labelCol='label',\n",
        "    maxIter=50,\n",
        "    regParam=0.1,\n",
        "    elasticNetParam=0.8,\n",
        "    tol=1e-6\n",
        ")\n",
        "\n",
        "# Train the model on the training data\n",
        "lr_model_old_data = lr.fit(train_data_buy)\n",
        "lr_model_new_data = lr.fit(train_data_buy_new)\n",
        "\n"
      ],
      "metadata": {
        "id": "CkWXacZi_vBl"
      },
      "execution_count": null,
      "outputs": []
    },
    {
      "cell_type": "code",
      "source": [
        "\n",
        "\n",
        "# Đánh giá trên train\n",
        "train_summary = lr_model_old_data.evaluate(train_data_buy)\n",
        "train_rmse = train_summary.rootMeanSquaredError\n",
        "train_r2 = train_summary.r2\n",
        "\n",
        "# Đánh giá trên test\n",
        "train_summary_new = lr_model_new_data.evaluate(train_data_buy_new)\n",
        "train_rmse_new = train_summary_new.rootMeanSquaredError\n",
        "train_r2_new = train_summary_new.r2\n",
        "\n",
        "\n",
        "print(f\"RMSE (Old Data): {train_rmse}\")\n",
        "print(f\"RMSE (New Data): {train_rmse_new}\")\n"
      ],
      "metadata": {
        "colab": {
          "base_uri": "https://localhost:8080/"
        },
        "id": "SLKcsDPUAMID",
        "outputId": "ab24ddad-318c-4aa0-9169-79cd03652ee7"
      },
      "execution_count": null,
      "outputs": [
        {
          "output_type": "stream",
          "name": "stdout",
          "text": [
            "RMSE (Old Data): 0.43458662239639423\n",
            "RMSE (New Data): 0.5015043147136635\n"
          ]
        }
      ]
    },
    {
      "cell_type": "code",
      "source": [
        "\n",
        "\n",
        "# Đánh giá trên train\n",
        "test_summary = lr_model_old_data.evaluate(test_data_buy)\n",
        "test_rmse = test_summary.rootMeanSquaredError\n",
        "test_r2 = test_summary.r2\n",
        "\n",
        "# Đánh giá trên test\n",
        "test_summary_new = lr_model_new_data.evaluate(test_data_buy_new)\n",
        "test_rmse_new = test_summary_new.rootMeanSquaredError\n",
        "test_r2_new = test_summary_new.r2\n",
        "\n",
        "\n",
        "print(f\"RMSE (Old Data): {test_rmse}\")\n",
        "print(f\"RMSE (New Data): {test_rmse_new}\")\n"
      ],
      "metadata": {
        "colab": {
          "base_uri": "https://localhost:8080/"
        },
        "id": "Nd5U_h5FNwgu",
        "outputId": "83228cb5-234b-4f97-e49a-3562b4ffc001"
      },
      "execution_count": null,
      "outputs": [
        {
          "output_type": "stream",
          "name": "stdout",
          "text": [
            "RMSE (Old Data): 0.4118046115231098\n",
            "RMSE (New Data): 0.48073308500008466\n"
          ]
        }
      ]
    },
    {
      "cell_type": "markdown",
      "source": [
        "## Draw a bar chart to contrast losses between the new and original sets."
      ],
      "metadata": {
        "id": "xX7405BT8B9Q"
      }
    },
    {
      "cell_type": "code",
      "source": [
        "import matplotlib.pyplot as plt\n",
        "\n",
        "# RMSE values for training and testing\n",
        "rmse_values = {\n",
        "    \"Train (Old)\":  train_rmse,\n",
        "    \"Train (New)\":  train_rmse_new,\n",
        "    \"Test (Old)\":   test_rmse,\n",
        "    \"Test (New)\":   test_rmse_new\n",
        "}\n",
        "\n",
        "# Plotting\n",
        "plt.figure(figsize=(8, 5))\n",
        "plt.bar(rmse_values.keys(), rmse_values.values(), color=[\"skyblue\", \"orange\", \"lightgreen\", \"salmon\"])\n",
        "plt.ylabel(\"RMSE\")\n",
        "plt.title(\"RMSE Comparison: Old vs New Data (Train/Test Sets)\")\n",
        "plt.grid(axis='y', linestyle='--', alpha=0.7)\n",
        "plt.tight_layout()\n",
        "plt.show()\n"
      ],
      "metadata": {
        "colab": {
          "base_uri": "https://localhost:8080/",
          "height": 507
        },
        "id": "qTV3QQkHOIC6",
        "outputId": "6449626a-4015-4cbd-c470-7c5bf07d9b41"
      },
      "execution_count": null,
      "outputs": [
        {
          "output_type": "display_data",
          "data": {
            "text/plain": [
              "<Figure size 800x500 with 1 Axes>"
            ],
            "image/png": "[encoded data removed]"
          },
          "metadata": {}
        }
      ]
    },
    {
      "cell_type": "markdown",
      "source": [
        "#Sell Price"
      ],
      "metadata": {
        "id": "VnGi2xVrOLUW"
      }
    },
    {
      "cell_type": "markdown",
      "source": [
        "## Infer the new representation (row embedding) for each feature vector in the training and test sets."
      ],
      "metadata": {
        "id": "Ts0wUel-OVc-"
      }
    },
    {
      "cell_type": "code",
      "source": [
        "from pyspark.ml.linalg import DenseVector as MLDenseVector\n",
        "from pyspark.mllib.linalg import Vectors as MLLIBVectors\n",
        "\n",
        "def ml_to_mllib(v):\n",
        "    # Chuyển Vector ML sang Vector MLLIB\n",
        "    return MLLIBVectors.dense(v.toArray())\n",
        "\n",
        "# Giả sử df có cột \"features\" kiểu pyspark.ml.linalg.Vector\n",
        "features_rdd = df_sell.select(\"features\").rdd.map(lambda row: ml_to_mllib(row[\"features\"]))\n",
        "\n",
        "# Tạo RowMatrix đúng chuẩn\n",
        "mat = RowMatrix(features_rdd)\n"
      ],
      "metadata": {
        "id": "yNymHW8Qev1l"
      },
      "execution_count": null,
      "outputs": []
    },
    {
      "cell_type": "code",
      "source": [
        "\n",
        "cur = CURReducer(n_cols_reduced=5)\n",
        "cur.fit(mat)\n",
        "X_reduced = cur.transform(mat)\n",
        "\n"
      ],
      "metadata": {
        "id": "ajoUWZETezJo"
      },
      "execution_count": null,
      "outputs": []
    },
    {
      "cell_type": "code",
      "source": [
        "X_reduced.rows.take(2)\n"
      ],
      "metadata": {
        "colab": {
          "base_uri": "https://localhost:8080/"
        },
        "id": "SXvu_CC7e1ww",
        "outputId": "04de2a94-4fee-48ee-f930-3940bb19fccc"
      },
      "execution_count": null,
      "outputs": [
        {
          "output_type": "execute_result",
          "data": {
            "text/plain": [
              "[DenseVector([0.0003, 126.4772, 1280.6324, 23697.5714, 93086.3597]),\n",
              " DenseVector([0.0003, 126.4772, 1280.6324, 23697.5714, 93086.3597])]"
            ]
          },
          "metadata": {},
          "execution_count": 112
        }
      ]
    },
    {
      "cell_type": "code",
      "source": [
        "from pyspark.sql.functions import monotonically_increasing_id\n",
        "from pyspark.mllib.linalg import Vectors\n",
        "from pyspark.sql import Row\n",
        "\n",
        "# 1. Thêm cột index cho df_buy để đánh thứ tự dòng\n",
        "df_sell_indexed = df_sell.withColumn(\"idx\", monotonically_increasing_id())\n",
        "\n",
        "# 2. Lấy X_reduced (RowMatrix) sang RDD [(idx, vector_embedding)]\n",
        "rdd_reduced = X_reduced.rows.zipWithIndex().map(lambda x: (x[1], x[0]))\n",
        "\n",
        "# 3. Chuyển rdd_reduced thành DataFrame (idx, feature_reduced)\n",
        "df_reduced = rdd_reduced.map(lambda x: Row(idx=x[0], feature_reduced=Vectors.dense(x[1].toArray()))).toDF()\n",
        "\n",
        "# 4. Join df_buy_indexed với df_reduced theo idx\n",
        "df_joined = df_sell_indexed.join(df_reduced, on=\"idx\", how=\"inner\")\n",
        "\n",
        "# 5. Thay thế cột feature cũ bằng cột feature_reduced\n",
        "df_final = df_joined.drop(\"features\").withColumnRenamed(\"feature_reduced\", \"features\").drop(\"idx\")\n",
        "\n",
        "# df_final là DataFrame mới với cột feature đã được thay bằng vector embedding 5 chiều\n"
      ],
      "metadata": {
        "id": "X-H_S2wMe38Z"
      },
      "execution_count": null,
      "outputs": []
    },
    {
      "cell_type": "code",
      "source": [
        "from pyspark.ml.linalg import Vectors as mlVectors\n",
        "from pyspark.mllib.linalg import Vectors as mllibVectors\n",
        "from pyspark.sql.functions import udf, col\n",
        "from pyspark.ml.linalg import VectorUDT\n",
        "\n",
        "# UDF chuyển đổi mllib Vector sang ml Vector\n",
        "convert_udf = udf(lambda v: mlVectors.dense(v.toArray()), VectorUDT())\n",
        "\n",
        "# Áp dụng chuyển đổi lên cột features của train_data_buy_new\n",
        "df_final = df_final.withColumn(\"features\", convert_udf(col(\"features\")))\n"
      ],
      "metadata": {
        "id": "m_JI9uhxiGeC"
      },
      "execution_count": null,
      "outputs": []
    },
    {
      "cell_type": "code",
      "source": [
        "df_final.show(truncate=False)"
      ],
      "metadata": {
        "colab": {
          "base_uri": "https://localhost:8080/"
        },
        "id": "lwC25gN9i7DC",
        "outputId": "1cdb2344-44f7-4738-badc-e45672759a4a"
      },
      "execution_count": null,
      "outputs": [
        {
          "output_type": "stream",
          "name": "stdout",
          "text": [
            "+----------+-----+-------------------------------------------------------------------------------------------------+\n",
            "|Date      |label|features                                                                                         |\n",
            "+----------+-----+-------------------------------------------------------------------------------------------------+\n",
            "|2009-08-11|21.19|[2.9862522294439093E-4,126.47716412855833,1280.6323885476422,23697.57139858727,93086.35967722732]|\n",
            "|2009-08-12|21.19|[2.9862522294439093E-4,126.47716412855833,1280.6323885476422,23697.57139858727,93086.35967722732]|\n",
            "|2009-08-13|21.19|[2.9862522294439093E-4,126.47716412855833,1280.6323885476422,23697.57139858727,93086.35967722732]|\n",
            "|2009-08-14|21.19|[2.9862522294439093E-4,126.47716412855833,1280.6323885476422,23697.57139858727,93086.35967722732]|\n",
            "|2009-08-15|21.19|[2.9862522294439093E-4,126.47716412855833,1280.6323885476422,23697.57139858727,93086.35967722732]|\n",
            "|2009-08-16|21.19|[2.9862522294439093E-4,126.47716412855833,1280.6323885476422,23697.57139858727,93086.35967722732]|\n",
            "|2009-08-17|21.19|[2.9862522294439093E-4,126.47716412855833,1280.6323885476422,23697.57139858727,93086.35967722732]|\n",
            "|2009-08-18|21.19|[2.9862522294439093E-4,126.47716412855833,1280.6323885476422,23697.57139858727,93086.35967722732]|\n",
            "|2009-08-19|21.19|[2.9862522294439093E-4,126.47716412855833,1280.6323885476422,23697.57139858727,93086.35967722732]|\n",
            "|2009-08-20|21.19|[2.9862522294439093E-4,126.47716412855833,1280.6323885476422,23697.57139858727,93086.35967722732]|\n",
            "|2009-08-21|21.19|[2.9862522294439093E-4,126.47716412855833,1280.6323885476422,23697.57139858727,93086.35967722732]|\n",
            "|2009-08-22|21.19|[2.9862522294439093E-4,126.47716412855833,1280.6323885476422,23697.57139858727,93086.35967722732]|\n",
            "|2009-08-23|21.19|[2.9862522294439093E-4,126.47716412855833,1280.6323885476422,23697.57139858727,93086.35967722732]|\n",
            "|2009-08-24|21.19|[2.9862522294439093E-4,126.47716412855833,1280.6323885476422,23697.57139858727,93086.35967722732]|\n",
            "|2009-08-25|21.19|[2.9862522294439093E-4,126.47716412855833,1280.6323885476422,23697.57139858727,93086.35967722732]|\n",
            "|2009-08-26|21.19|[2.9862522294439093E-4,126.47716412855833,1280.6323885476422,23697.57139858727,93086.35967722732]|\n",
            "|2009-09-21|22.14|[2.9862522294439093E-4,126.47716412855833,1280.6323885476422,23697.57139858727,93086.35967722732]|\n",
            "|2009-09-22|22.28|[2.9862522294439093E-4,126.47716412855833,1280.6323885476422,23697.57139858727,93086.35967722732]|\n",
            "|2009-09-23|22.32|[2.986259312214942E-4,126.47716342106307,1280.6323890214007,23697.571405226474,97259.65093052761]|\n",
            "|2009-09-24|22.28|[2.986258751839333E-4,126.47716326217034,1280.632389351045,24759.992014401287,97874.66227480942] |\n",
            "+----------+-----+-------------------------------------------------------------------------------------------------+\n",
            "only showing top 20 rows\n",
            "\n"
          ]
        }
      ]
    },
    {
      "cell_type": "markdown",
      "source": [
        "## Training and evaluate a linear regression model as in Task 2 with the two new sets.\n"
      ],
      "metadata": {
        "id": "Gnd9vFiUOXpt"
      }
    },
    {
      "cell_type": "code",
      "source": [
        "\n",
        "\n",
        "# Split the data into training and testing datasets\n",
        "train_data_sell, test_data_sell = df_sell.randomSplit([0.7, 0.3], seed=123)\n",
        "train_data_sell_new, test_data_sell_new = df_final.randomSplit([0.7, 0.3], seed=123)\n",
        "\n"
      ],
      "metadata": {
        "id": "aeiSCcoDfFIn"
      },
      "execution_count": null,
      "outputs": []
    },
    {
      "cell_type": "code",
      "source": [
        "# Initialize the Linear Regression model\n",
        "lr = LinearRegression(\n",
        "    featuresCol='features',\n",
        "    labelCol='label',\n",
        "    maxIter=50,\n",
        "    regParam=0.1,\n",
        "    elasticNetParam=0.8,\n",
        "    tol=1e-6\n",
        ")\n",
        "\n",
        "# Train the model on the training data\n",
        "lr_model_old_data = lr.fit(train_data_sell)\n",
        "lr_model_new_data = lr.fit(train_data_sell_new)\n",
        "\n"
      ],
      "metadata": {
        "id": "wUAkBbmEfJYS"
      },
      "execution_count": null,
      "outputs": []
    },
    {
      "cell_type": "code",
      "source": [
        "\n",
        "\n",
        "# Đánh giá trên train\n",
        "train_summary = lr_model_old_data.evaluate(train_data_sell)\n",
        "train_rmse = train_summary.rootMeanSquaredError\n",
        "train_r2 = train_summary.r2\n",
        "\n",
        "# Đánh giá trên test\n",
        "train_summary_new = lr_model_new_data.evaluate(train_data_sell_new)\n",
        "train_rmse_new = train_summary_new.rootMeanSquaredError\n",
        "train_r2_new = train_summary_new.r2\n",
        "\n",
        "\n",
        "print(f\"RMSE (Old Data): {train_rmse}\")\n",
        "print(f\"RMSE (New Data): {train_rmse_new}\")\n"
      ],
      "metadata": {
        "colab": {
          "base_uri": "https://localhost:8080/"
        },
        "id": "gYbNt6ACiQY9",
        "outputId": "53b5c4b0-cf24-4bc6-dd59-91114f16a0a1"
      },
      "execution_count": null,
      "outputs": [
        {
          "output_type": "stream",
          "name": "stdout",
          "text": [
            "RMSE (Old Data): 0.4409777414429002\n",
            "RMSE (New Data): 0.48921925358750323\n"
          ]
        }
      ]
    },
    {
      "cell_type": "code",
      "source": [
        "\n",
        "\n",
        "# Đánh giá trên train\n",
        "test_summary = lr_model_old_data.evaluate(test_data_sell)\n",
        "test_rmse = test_summary.rootMeanSquaredError\n",
        "test_r2 = test_summary.r2\n",
        "\n",
        "# Đánh giá trên test\n",
        "test_summary_new = lr_model_new_data.evaluate(test_data_sell_new)\n",
        "test_rmse_new = test_summary_new.rootMeanSquaredError\n",
        "test_r2_new = test_summary_new.r2\n",
        "\n",
        "\n",
        "print(f\"RMSE (Old Data): {test_rmse}\")\n",
        "print(f\"RMSE (New Data): {test_rmse_new}\")\n"
      ],
      "metadata": {
        "colab": {
          "base_uri": "https://localhost:8080/"
        },
        "id": "9WCt5YChiVJi",
        "outputId": "539f9dc4-a0be-4f79-f9ca-300469bfdc49"
      },
      "execution_count": null,
      "outputs": [
        {
          "output_type": "stream",
          "name": "stdout",
          "text": [
            "RMSE (Old Data): 0.4309925486753766\n",
            "RMSE (New Data): 0.4836213385021448\n"
          ]
        }
      ]
    },
    {
      "cell_type": "markdown",
      "source": [
        "## Draw a bar chart to contrast losses between the new and original sets."
      ],
      "metadata": {
        "id": "UuqAkxD0ObIZ"
      }
    },
    {
      "cell_type": "code",
      "source": [
        "import matplotlib.pyplot as plt\n",
        "\n",
        "# RMSE values for training and testing\n",
        "rmse_values = {\n",
        "    \"Train (Old)\":  train_rmse,\n",
        "    \"Train (New)\":  train_rmse_new,\n",
        "    \"Test (Old)\":   test_rmse,\n",
        "    \"Test (New)\":   test_rmse_new\n",
        "}\n",
        "\n",
        "# Plotting\n",
        "plt.figure(figsize=(8, 5))\n",
        "plt.bar(rmse_values.keys(), rmse_values.values(), color=[\"skyblue\", \"orange\", \"lightgreen\", \"salmon\"])\n",
        "plt.ylabel(\"RMSE\")\n",
        "plt.title(\"RMSE Comparison: Old vs New Data (Train/Test Sets)\")\n",
        "plt.grid(axis='y', linestyle='--', alpha=0.7)\n",
        "plt.tight_layout()\n",
        "plt.show()\n"
      ],
      "metadata": {
        "colab": {
          "base_uri": "https://localhost:8080/",
          "height": 507
        },
        "id": "aC5kGkcTicdq",
        "outputId": "c338c17f-5671-4987-e0d3-bfacb7cc3751"
      },
      "execution_count": null,
      "outputs": [
        {
          "output_type": "display_data",
          "data": {
            "text/plain": [
              "<Figure size 800x500 with 1 Axes>"
            ],
            "image/png": "[encoded data removed]"
          },
          "metadata": {}
        }
      ]
    }
  ]
}